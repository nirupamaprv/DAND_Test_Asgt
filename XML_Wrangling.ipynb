{
 "cells": [
  {
   "cell_type": "code",
   "execution_count": 28,
   "metadata": {
    "collapsed": false,
    "scrolled": true
   },
   "outputs": [
    {
     "name": "stdout",
     "output_type": "stream",
     "text": [
      "\n",
      "Title : \n",
      " XML Developer's Guide\n",
      "\n",
      "Author : \n",
      " Gambardella, Matthew\n",
      "\n",
      "Authors:\n",
      "Gambardella, Matthew\n",
      "Ralls, Kim\n",
      "Corets, Eva\n",
      "Corets, Eva\n",
      "Corets, Eva\n",
      "Randall, Cynthia\n",
      "Thurman, Paula\n",
      "Knorr, Stefan\n",
      "Kress, Peter\n",
      "O'Brien, Tim\n",
      "O'Brien, Tim\n",
      "Galos, Mike\n",
      "[{'title': \"XML Developer's Guide\", 'genre': 'Computer', 'price': '44.95'}, {'title': 'Midnight Rain', 'genre': 'Fantasy', 'price': '5.95'}, {'title': 'Maeve Ascendant', 'genre': 'Fantasy', 'price': '5.95'}, {'title': \"Oberon's Legacy\", 'genre': 'Fantasy', 'price': '5.95'}, {'title': 'The Sundered Grail', 'genre': 'Fantasy', 'price': '5.95'}, {'title': 'Lover Birds', 'genre': 'Romance', 'price': '4.95'}, {'title': 'Splish Splash', 'genre': 'Romance', 'price': '4.95'}, {'title': 'Creepy Crawlies', 'genre': 'Horror', 'price': '4.95'}, {'title': 'Paradox Lost', 'genre': 'Science Fiction', 'price': '6.95'}, {'title': 'Microsoft .NET: The Programming Bible', 'genre': 'Computer', 'price': '36.95'}, {'title': 'MSXML3: A Comprehensive Guide', 'genre': 'Computer', 'price': '36.95'}, {'title': 'Visual Studio 7: A Comprehensive Guide', 'genre': 'Computer', 'price': '49.95'}]\n"
     ]
    }
   ],
   "source": [
    "import xml.etree.ElementTree as ET\n",
    "import pprint\n",
    "\n",
    "tree = ET.parse('Data.xml')\n",
    "root = tree.getroot()\n",
    "\n",
    "'''\n",
    "#Printing child nodes\n",
    "print(\"\\nChildren of Root:\")\n",
    "for child in root:\n",
    "    print(child.tag)\n",
    "\n",
    "\n",
    "#Printing child nodes with number\n",
    "i = 1\n",
    "print(\"\\nChildren of Root:\")\n",
    "for child in root:\n",
    "    print(i, child.tag)\n",
    "    i = i+1\n",
    "'''\n",
    "\n",
    "#Printing titles from nodes :First occurrence\n",
    "title = root.find('./book/title')\n",
    "print (\"\\nTitle : \\n\", title.text)\n",
    "author = root.find('./book/author')\n",
    "print (\"\\nAuthor : \\n\", author.text)\n",
    "\n",
    "'''\n",
    "#Extracting Descriptions\n",
    "print (\"\\nDescriptions:\")\n",
    "for a in root.findall('./book'):\n",
    "    desc = a.find('description')\n",
    "    if desc is not None:\n",
    "        print(desc.text)\n",
    "'''\n",
    "\n",
    "#Extracting Author Names : all occcurrences\n",
    "print (\"\\nAuthors:\")\n",
    "for a in root.findall('./book'):\n",
    "    auth = a.find('author')\n",
    "    if auth is not None:\n",
    "        print(auth.text)\n",
    "        \n",
    "#extracting book details        \n",
    "def get_details(root):\n",
    "    details = []\n",
    "    for dets in root.findall('./book'):\n",
    "        data = {\n",
    "                \"title\": None,\n",
    "                \"genre\": None,\n",
    "                \"price\": None\n",
    "        }\n",
    "        data[\"title\"] = dets.find('./title').text\n",
    "        data[\"genre\"] = dets.find('./genre').text\n",
    "        data[\"price\"] = dets.find('./price').text\n",
    "\n",
    "        details.append(data)\n",
    "    return details\n",
    "        \n",
    "print(get_details(root))"
   ]
  },
  {
   "cell_type": "code",
   "execution_count": null,
   "metadata": {
    "collapsed": true
   },
   "outputs": [],
   "source": []
  }
 ],
 "metadata": {
  "kernelspec": {
   "display_name": "Python 3",
   "language": "python",
   "name": "python3"
  },
  "language_info": {
   "codemirror_mode": {
    "name": "ipython",
    "version": 3
   },
   "file_extension": ".py",
   "mimetype": "text/x-python",
   "name": "python",
   "nbconvert_exporter": "python",
   "pygments_lexer": "ipython3",
   "version": "3.6.0"
  }
 },
 "nbformat": 4,
 "nbformat_minor": 2
}
